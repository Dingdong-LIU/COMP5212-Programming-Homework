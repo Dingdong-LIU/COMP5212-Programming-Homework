{
 "cells": [
  {
   "cell_type": "code",
   "execution_count": 1,
   "metadata": {},
   "outputs": [],
   "source": [
    "%load_ext autoreload\n",
    "%autoreload 2"
   ]
  },
  {
   "cell_type": "code",
   "execution_count": 2,
   "metadata": {},
   "outputs": [],
   "source": [
    "from main import train_and_test_model\n",
    "from tqdm.notebook import tqdm\n",
    "import json\n",
    "import numpy as np"
   ]
  },
  {
   "cell_type": "code",
   "execution_count": 13,
   "metadata": {},
   "outputs": [
    {
     "name": "stderr",
     "output_type": "stream",
     "text": [
      "Train epoch 29: 100%|██████████| 30/30 [00:50<00:00,  1.67s/epoches, batch_loss=0.44143385, total_loss=0.88] \n"
     ]
    },
    {
     "name": "stdout",
     "output_type": "stream",
     "text": [
      "Accuracy of the model on the test images: 90.59101867675781\n"
     ]
    },
    {
     "name": "stderr",
     "output_type": "stream",
     "text": [
      "Train epoch 29: 100%|██████████| 30/30 [00:52<00:00,  1.74s/epoches, batch_loss=4.7892684e-07, total_loss=0.132] \n"
     ]
    },
    {
     "name": "stdout",
     "output_type": "stream",
     "text": [
      "Accuracy of the model on the test images: 98.1560287475586\n"
     ]
    },
    {
     "name": "stderr",
     "output_type": "stream",
     "text": [
      "Train epoch 29: 100%|██████████| 30/30 [00:51<00:00,  1.70s/epoches, batch_loss=0.15450071, total_loss=0.0521]   \n"
     ]
    },
    {
     "name": "stdout",
     "output_type": "stream",
     "text": [
      "Accuracy of the model on the test images: 99.66903686523438\n"
     ]
    },
    {
     "name": "stderr",
     "output_type": "stream",
     "text": [
      "Train epoch 29: 100%|██████████| 30/30 [00:49<00:00,  1.65s/epoches, batch_loss=0.00013726312, total_loss=0.00784]\n"
     ]
    },
    {
     "name": "stdout",
     "output_type": "stream",
     "text": [
      "Accuracy of the model on the test images: 99.76359558105469\n"
     ]
    },
    {
     "name": "stderr",
     "output_type": "stream",
     "text": [
      "Train epoch 29: 100%|██████████| 30/30 [00:49<00:00,  1.65s/epoches, batch_loss=1.275744e-07, total_loss=2e-5]     \n"
     ]
    },
    {
     "name": "stdout",
     "output_type": "stream",
     "text": [
      "Accuracy of the model on the test images: 99.81087493896484\n"
     ]
    },
    {
     "name": "stderr",
     "output_type": "stream",
     "text": [
      "Train epoch 29: 100%|██████████| 30/30 [00:50<00:00,  1.67s/epoches, batch_loss=nan, total_loss=nan]\n"
     ]
    },
    {
     "name": "stdout",
     "output_type": "stream",
     "text": [
      "Accuracy of the model on the test images: 0.0\n",
      "Best lr for logistic regression is 1.0\n"
     ]
    },
    {
     "name": "stderr",
     "output_type": "stream",
     "text": [
      "Train epoch 29: 100%|██████████| 30/30 [00:53<00:00,  1.77s/epoches, batch_loss=0.0, total_loss=0.807]       \n"
     ]
    },
    {
     "name": "stdout",
     "output_type": "stream",
     "text": [
      "Accuracy of the model on the test images: 93.096923828125\n"
     ]
    },
    {
     "name": "stderr",
     "output_type": "stream",
     "text": [
      "Train epoch 29: 100%|██████████| 30/30 [00:53<00:00,  1.78s/epoches, batch_loss=0.22069278, total_loss=0.142]  \n"
     ]
    },
    {
     "name": "stdout",
     "output_type": "stream",
     "text": [
      "Accuracy of the model on the test images: 98.4397201538086\n"
     ]
    },
    {
     "name": "stderr",
     "output_type": "stream",
     "text": [
      "Train epoch 29: 100%|██████████| 30/30 [00:52<00:00,  1.74s/epoches, batch_loss=0.13194005, total_loss=0.0503] \n"
     ]
    },
    {
     "name": "stdout",
     "output_type": "stream",
     "text": [
      "Accuracy of the model on the test images: 99.47990417480469\n"
     ]
    },
    {
     "name": "stderr",
     "output_type": "stream",
     "text": [
      "Train epoch 29: 100%|██████████| 30/30 [00:51<00:00,  1.71s/epoches, batch_loss=0.0, total_loss=0.0045]          \n"
     ]
    },
    {
     "name": "stdout",
     "output_type": "stream",
     "text": [
      "Accuracy of the model on the test images: 99.85816192626953\n"
     ]
    },
    {
     "name": "stderr",
     "output_type": "stream",
     "text": [
      "Train epoch 29: 100%|██████████| 30/30 [00:53<00:00,  1.77s/epoches, batch_loss=0.0, total_loss=0]               \n"
     ]
    },
    {
     "name": "stdout",
     "output_type": "stream",
     "text": [
      "Accuracy of the model on the test images: 99.85816192626953\n"
     ]
    },
    {
     "name": "stderr",
     "output_type": "stream",
     "text": [
      "Train epoch 29: 100%|██████████| 30/30 [00:53<00:00,  1.79s/epoches, batch_loss=0.0, total_loss=0]            \n"
     ]
    },
    {
     "name": "stdout",
     "output_type": "stream",
     "text": [
      "Accuracy of the model on the test images: 99.95272064208984\n",
      "Best lr for svm is 10.0\n"
     ]
    }
   ],
   "source": [
    "# test on different models and step sizes\n",
    "training_records = []\n",
    "for loss_type in ['logistic regression', 'svm']:\n",
    "    step_size_set = [1e-4, 1e-3, 1e-2, 1e-1, 1e0, 1e1]\n",
    "    # step_size_set = [5e-5, 1e-4, 5e-4, 1e-3, 5e-3, 1e-2, 5e-2, 1e-1, 5e-1, 1e0, 5e0, 1e1, 5e1, 1e2]\n",
    "    # step_size_set = [1e-2, 1e-1, 1e0]\n",
    "    r = train_and_test_model(\n",
    "        loss_type=loss_type, momentum=0, step_size_set=step_size_set)\n",
    "    training_records.append(r)\n",
    "    accs = [x['test_acc'] for x in r[\"train_history\"]]\n",
    "    best_acc, best_idx = np.max(accs), np.argmax(accs)\n",
    "    print(f'Best lr for {r[\"model_type\"]} is {r[\"train_history\"][best_idx][\"lr\"]}')\n",
    "\n",
    "with open('experiment_results/model_with_lr.json', 'w') as f:\n",
    "    j = json.dump(training_records, indent=4, fp=f)\n"
   ]
  },
  {
   "cell_type": "code",
   "execution_count": 15,
   "metadata": {},
   "outputs": [
    {
     "name": "stderr",
     "output_type": "stream",
     "text": [
      "Train epoch 29: 100%|██████████| 30/30 [00:48<00:00,  1.62s/epoch, batch_loss=5.0119652e-05, total_loss=0.00732] \n"
     ]
    },
    {
     "name": "stdout",
     "output_type": "stream",
     "text": [
      "Accuracy of the model on the test images: 99.81087493896484\n"
     ]
    },
    {
     "name": "stderr",
     "output_type": "stream",
     "text": [
      "Train epoch 29: 100%|██████████| 30/30 [00:50<00:00,  1.69s/epoch, batch_loss=0.0, total_loss=0.00368]          \n"
     ]
    },
    {
     "name": "stdout",
     "output_type": "stream",
     "text": [
      "Accuracy of the model on the test images: 99.81087493896484\n"
     ]
    },
    {
     "name": "stderr",
     "output_type": "stream",
     "text": [
      "Train epoch 29: 100%|██████████| 30/30 [00:51<00:00,  1.73s/epoch, batch_loss=0.0, total_loss=0.0039]           \n"
     ]
    },
    {
     "name": "stdout",
     "output_type": "stream",
     "text": [
      "Accuracy of the model on the test images: 99.85816192626953\n"
     ]
    },
    {
     "name": "stderr",
     "output_type": "stream",
     "text": [
      "Train epoch 29: 100%|██████████| 30/30 [00:52<00:00,  1.74s/epoch, batch_loss=0.0, total_loss=0.0017]            \n"
     ]
    },
    {
     "name": "stdout",
     "output_type": "stream",
     "text": [
      "Accuracy of the model on the test images: 99.85816192626953\n"
     ]
    },
    {
     "name": "stderr",
     "output_type": "stream",
     "text": [
      "Train epoch 29: 100%|██████████| 30/30 [00:52<00:00,  1.77s/epoch, batch_loss=0.0, total_loss=7.21e-5]            \n"
     ]
    },
    {
     "name": "stdout",
     "output_type": "stream",
     "text": [
      "Accuracy of the model on the test images: 99.90543365478516\n"
     ]
    },
    {
     "name": "stderr",
     "output_type": "stream",
     "text": [
      "Train epoch 29: 100%|██████████| 30/30 [00:53<00:00,  1.77s/epoch, batch_loss=0.0, total_loss=0.00782]        \n"
     ]
    },
    {
     "name": "stdout",
     "output_type": "stream",
     "text": [
      "Accuracy of the model on the test images: 99.90543365478516\n"
     ]
    },
    {
     "name": "stderr",
     "output_type": "stream",
     "text": [
      "Train epoch 29: 100%|██████████| 30/30 [00:53<00:00,  1.78s/epoch, batch_loss=0.0, total_loss=0.00314]         \n"
     ]
    },
    {
     "name": "stdout",
     "output_type": "stream",
     "text": [
      "Accuracy of the model on the test images: 99.71630859375\n"
     ]
    },
    {
     "name": "stderr",
     "output_type": "stream",
     "text": [
      "Train epoch 29: 100%|██████████| 30/30 [00:51<00:00,  1.72s/epoch, batch_loss=0.0, total_loss=0.000528]        \n"
     ]
    },
    {
     "name": "stdout",
     "output_type": "stream",
     "text": [
      "Accuracy of the model on the test images: 99.85816192626953\n"
     ]
    },
    {
     "name": "stderr",
     "output_type": "stream",
     "text": [
      "Train epoch 29: 100%|██████████| 30/30 [00:52<00:00,  1.75s/epoch, batch_loss=0.0, total_loss=8.04e-5]         \n"
     ]
    },
    {
     "name": "stdout",
     "output_type": "stream",
     "text": [
      "Accuracy of the model on the test images: 99.81087493896484\n"
     ]
    },
    {
     "name": "stderr",
     "output_type": "stream",
     "text": [
      "Train epoch 29: 100%|██████████| 30/30 [00:53<00:00,  1.78s/epoch, batch_loss=0.0, total_loss=0]                \n"
     ]
    },
    {
     "name": "stdout",
     "output_type": "stream",
     "text": [
      "Accuracy of the model on the test images: 99.90543365478516\n"
     ]
    }
   ],
   "source": [
    "# test for different optimizer (momentum value)\n",
    "training_records_m = []\n",
    "for loss_type in ['logistic regression', 'svm']:\n",
    "    best_step_size_set = [1e-1]\n",
    "    momentum_set = [0, 0.2, 0.4, 0.6, 0.8]\n",
    "    for m in momentum_set:\n",
    "        r = train_and_test_model(\n",
    "            loss_type=loss_type, momentum=m, step_size_set=best_step_size_set)\n",
    "        training_records_m.append(r)\n",
    "        accs = [x['test_acc'] for x in r[\"train_history\"]]\n",
    "        \n",
    "\n",
    "with open('experiment_results/model_with_momentum.json', 'w') as f:\n",
    "    j = json.dump(training_records_m, indent=4, fp=f)\n"
   ]
  },
  {
   "cell_type": "code",
   "execution_count": null,
   "metadata": {},
   "outputs": [],
   "source": []
  }
 ],
 "metadata": {
  "kernelspec": {
   "display_name": "Python 3.9.5 ('venv')",
   "language": "python",
   "name": "python3"
  },
  "language_info": {
   "codemirror_mode": {
    "name": "ipython",
    "version": 3
   },
   "file_extension": ".py",
   "mimetype": "text/x-python",
   "name": "python",
   "nbconvert_exporter": "python",
   "pygments_lexer": "ipython3",
   "version": "3.9.5"
  },
  "orig_nbformat": 4,
  "vscode": {
   "interpreter": {
    "hash": "c67f1cde0deeda12749d5d54c5308956ecc4dcc312586a466f56ec78436de0e9"
   }
  }
 },
 "nbformat": 4,
 "nbformat_minor": 2
}
