{
 "cells": [
  {
   "cell_type": "code",
   "execution_count": 1,
   "metadata": {},
   "outputs": [],
   "source": [
    "%load_ext autoreload\n",
    "%autoreload 2"
   ]
  },
  {
   "cell_type": "code",
   "execution_count": 2,
   "metadata": {},
   "outputs": [],
   "source": [
    "from main import train_and_test_model\n",
    "from tqdm.notebook import tqdm\n",
    "import json\n",
    "import numpy as np"
   ]
  },
  {
   "cell_type": "code",
   "execution_count": 4,
   "metadata": {},
   "outputs": [
    {
     "name": "stderr",
     "output_type": "stream",
     "text": [
      "Train epoch 19: 100%|██████████| 20/20 [00:29<00:00,  1.48s/epoches, loss=0.0633]\n"
     ]
    },
    {
     "name": "stdout",
     "output_type": "stream",
     "text": [
      "Accuracy of the model on the test images: 99.71630859375\n"
     ]
    },
    {
     "name": "stderr",
     "output_type": "stream",
     "text": [
      "Train epoch 19: 100%|██████████| 20/20 [00:29<00:00,  1.49s/epoches, loss=0.00932]\n"
     ]
    },
    {
     "name": "stdout",
     "output_type": "stream",
     "text": [
      "Accuracy of the model on the test images: 99.76359558105469\n"
     ]
    },
    {
     "name": "stderr",
     "output_type": "stream",
     "text": [
      "Train epoch 19: 100%|██████████| 20/20 [00:30<00:00,  1.51s/epoches, loss=nan]\n"
     ]
    },
    {
     "name": "stdout",
     "output_type": "stream",
     "text": [
      "Accuracy of the model on the test images: 0.0\n",
      "Best lr for logistic regression is 0.1\n"
     ]
    },
    {
     "name": "stderr",
     "output_type": "stream",
     "text": [
      "Train epoch 19: 100%|██████████| 20/20 [00:29<00:00,  1.48s/epoches, loss=0.0572]\n"
     ]
    },
    {
     "name": "stdout",
     "output_type": "stream",
     "text": [
      "Accuracy of the model on the test images: 99.76359558105469\n"
     ]
    },
    {
     "name": "stderr",
     "output_type": "stream",
     "text": [
      "Train epoch 19: 100%|██████████| 20/20 [00:29<00:00,  1.48s/epoches, loss=0.0111]\n"
     ]
    },
    {
     "name": "stdout",
     "output_type": "stream",
     "text": [
      "Accuracy of the model on the test images: 99.95272064208984\n"
     ]
    },
    {
     "name": "stderr",
     "output_type": "stream",
     "text": [
      "Train epoch 19: 100%|██████████| 20/20 [00:30<00:00,  1.53s/epoches, loss=0]       \n"
     ]
    },
    {
     "name": "stdout",
     "output_type": "stream",
     "text": [
      "Accuracy of the model on the test images: 99.85816192626953\n",
      "Best lr for svm is 0.1\n"
     ]
    }
   ],
   "source": [
    "# test on different models and step sizes\n",
    "training_records = []\n",
    "for loss_type in ['logistic regression', 'svm']:\n",
    "    step_size_set = [1e-5, 1e-4, 1e-3, 1e-2, 1e-1, 1e0, 1e1, 1e2]\n",
    "    step_size_set = [1e-2, 1e-1, 1e0]\n",
    "    r = train_and_test_model(\n",
    "        loss_type=loss_type, momentum=0, step_size_set=step_size_set)\n",
    "    training_records.append(r)\n",
    "    accs = [x['test_acc'] for x in r[\"train_history\"]]\n",
    "    best_acc, best_idx = np.max(accs), np.argmax(accs)\n",
    "    print(f'Best lr for {r[\"model_type\"]} is {r[\"train_history\"][best_idx][\"lr\"]}')\n",
    "\n",
    "with open('experiment_results/model_with_lr.json', 'w') as f:\n",
    "    j = json.dump(training_records, indent=4, fp=f)\n"
   ]
  },
  {
   "cell_type": "code",
   "execution_count": null,
   "metadata": {},
   "outputs": [],
   "source": [
    "# test for different optimizer (momentum value)\n",
    "training_records_m = []\n",
    "for loss_type in ['logistic regression', 'svm']:\n",
    "    best_step_size_set = [1e-1]\n",
    "    momentum_set = [0, 0.2, 0.4, 0.6, 0.8]\n",
    "    for m in momentum_set:\n",
    "        r = train_and_test_model(\n",
    "            loss_type=loss_type, momentum=0, step_size_set=best_step_size_set)\n",
    "        training_records_m.append(r)\n",
    "        accs = [x['test_acc'] for x in r[\"train_history\"]]\n",
    "        \n",
    "\n",
    "with open('experiment_results/model_with_momentum.json', 'w') as f:\n",
    "    j = json.dump(training_records_m, indent=4, fp=f)\n"
   ]
  }
 ],
 "metadata": {
  "kernelspec": {
   "display_name": "Python 3.10.0 ('venv')",
   "language": "python",
   "name": "python3"
  },
  "language_info": {
   "codemirror_mode": {
    "name": "ipython",
    "version": 3
   },
   "file_extension": ".py",
   "mimetype": "text/x-python",
   "name": "python",
   "nbconvert_exporter": "python",
   "pygments_lexer": "ipython3",
   "version": "3.10.0"
  },
  "orig_nbformat": 4,
  "vscode": {
   "interpreter": {
    "hash": "6d8da1c338f017caf088afacccae0a6fafbd40295a42062d30fca54dd53575db"
   }
  }
 },
 "nbformat": 4,
 "nbformat_minor": 2
}
