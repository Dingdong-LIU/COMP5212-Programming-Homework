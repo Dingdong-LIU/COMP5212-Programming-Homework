{
 "cells": [
  {
   "cell_type": "markdown",
   "metadata": {},
   "source": [
    "# COMP 5212 Programming Assignment 1\n",
    "## Image classification with Logistic Regression and Support Vector Machine"
   ]
  },
  {
   "cell_type": "markdown",
   "metadata": {},
   "source": [
    "### Load data\n",
    "* Load minist data and store the data to $home$ directory\n",
    "* create dataloaders for training and testing"
   ]
  },
  {
   "cell_type": "code",
   "execution_count": 1,
   "metadata": {},
   "outputs": [],
   "source": [
    "%load_ext autoreload\n",
    "%autoreload 2"
   ]
  },
  {
   "cell_type": "code",
   "execution_count": 2,
   "metadata": {},
   "outputs": [],
   "source": [
    "#Don't change batch size\n",
    "batch_size = 64\n",
    "\n",
    "from torch.utils.data.sampler import SubsetRandomSampler\n",
    "import torch\n",
    "import torch.nn as nn\n",
    "from torch.autograd import Variable\n",
    "from torchvision import datasets, transforms"
   ]
  },
  {
   "cell_type": "code",
   "execution_count": 3,
   "metadata": {},
   "outputs": [
    {
     "name": "stderr",
     "output_type": "stream",
     "text": [
      "/Users/dingdongliu/anaconda3/envs/venv/lib/python3.9/site-packages/torchvision/datasets/mnist.py:65: UserWarning: train_labels has been renamed targets\n",
      "  warnings.warn(\"train_labels has been renamed targets\")\n",
      "/Users/dingdongliu/anaconda3/envs/venv/lib/python3.9/site-packages/torchvision/datasets/mnist.py:70: UserWarning: test_labels has been renamed targets\n",
      "  warnings.warn(\"test_labels has been renamed targets\")\n"
     ]
    }
   ],
   "source": [
    "train_data = datasets.MNIST('~/data/mnist', train=True, download=True,\n",
    "                            transform=transforms.Compose([\n",
    "                                transforms.ToTensor(),\n",
    "                                transforms.Normalize((0.1307,), (0.3081,))\n",
    "                            ]))\n",
    "test_data = datasets.MNIST('~/data/mnist', train=False, download=True,\n",
    "                           transform=transforms.Compose([\n",
    "                               transforms.ToTensor(),\n",
    "                               transforms.Normalize((0.1307,), (0.3081,))\n",
    "                           ]))\n",
    "subset_indices = ((train_data.train_labels == 0) +\n",
    "                  (train_data.train_labels == 1)).nonzero().squeeze(1)\n",
    "train_loader = torch.utils.data.DataLoader(\n",
    "    train_data, batch_size=batch_size, shuffle=False, sampler=SubsetRandomSampler(subset_indices))\n",
    "\n",
    "\n",
    "subset_indices = ((test_data.test_labels == 0) +\n",
    "                  (test_data.test_labels == 1)).nonzero().squeeze(1)\n",
    "test_loader = torch.utils.data.DataLoader(\n",
    "    test_data, batch_size=batch_size, shuffle=False, sampler=SubsetRandomSampler(subset_indices))\n"
   ]
  },
  {
   "cell_type": "markdown",
   "metadata": {},
   "source": [
    "### Train model"
   ]
  },
  {
   "cell_type": "code",
   "execution_count": 4,
   "metadata": {},
   "outputs": [],
   "source": [
    "from models import Logistic_Regression, logistic_loss, svm_loss\n",
    "from torch import optim\n",
    "import numpy as np"
   ]
  },
  {
   "cell_type": "code",
   "execution_count": 5,
   "metadata": {},
   "outputs": [
    {
     "name": "stdout",
     "output_type": "stream",
     "text": [
      "tensor(7.1783, grad_fn=<DivBackward0>)\n"
     ]
    }
   ],
   "source": [
    "for i, (images, labels) in enumerate(train_loader):\n",
    "    images = Variable(images.view(-1, 28*28))\n",
    "    #Convert labels from 0,1 to -1,1\n",
    "    labels = Variable(2*(labels.float()-0.5))\n",
    "    break\n",
    "images.shape, labels.shape\n",
    "# Training the Model\n",
    "# Notice that newest Pytorch merge tensor and variable, so the additional Variable wrapping is no longer required.\n",
    "\n",
    "model = Logistic_Regression(28*28, 1)\n",
    "\n",
    "# print(model(images))\n",
    "loss_fn = logistic_loss\n",
    "print(loss_fn(model(images), labels))\n"
   ]
  },
  {
   "cell_type": "code",
   "execution_count": null,
   "metadata": {},
   "outputs": [],
   "source": []
  },
  {
   "cell_type": "code",
   "execution_count": 6,
   "metadata": {},
   "outputs": [
    {
     "name": "stdout",
     "output_type": "stream",
     "text": [
      "Epoch 0, loss = 1.7813104391098022\n",
      "Epoch 1, loss = 0.3137904107570648\n",
      "Epoch 2, loss = 0.19670051336288452\n",
      "Epoch 3, loss = 0.15092505514621735\n",
      "Epoch 4, loss = 0.1266629695892334\n",
      "Epoch 5, loss = 0.11170175671577454\n",
      "Epoch 6, loss = 0.10154907405376434\n",
      "Epoch 7, loss = 0.09363730251789093\n",
      "Epoch 8, loss = 0.08785871416330338\n",
      "Epoch 9, loss = 0.08280611783266068\n",
      "Epoch 10, loss = 0.0787738487124443\n",
      "Epoch 11, loss = 0.07533662021160126\n",
      "Epoch 12, loss = 0.07218687236309052\n",
      "Epoch 13, loss = 0.06938885897397995\n",
      "Epoch 14, loss = 0.06680692732334137\n",
      "Epoch 15, loss = 0.0644412711262703\n",
      "Epoch 16, loss = 0.062242209911346436\n",
      "Epoch 17, loss = 0.06017949804663658\n",
      "Epoch 18, loss = 0.05823230370879173\n",
      "Epoch 19, loss = 0.05641268193721771\n"
     ]
    }
   ],
   "source": [
    "num_epochs = 20  # added by me. modifiable.\n",
    "opt = optim.SGD(model.parameters(), lr=5e-3)\n",
    "device = torch.device('cpu') if torch.cuda.is_available() else torch.device('cpu')\n",
    "model.to(device)\n",
    "\n",
    "for epoch in range(num_epochs):\n",
    "    total_loss = []\n",
    "    for i, (images, labels) in enumerate(train_loader):\n",
    "        images = Variable(images.view(-1, 28*28)).to(device)\n",
    "        #Convert labels from 0,1 to -1,1\n",
    "        labels = Variable(2*(labels.float()-0.5)).to(device)\n",
    "        \n",
    "        ## TODO \n",
    "        pred = model(images)\n",
    "        loss = loss_fn(pred, labels)\n",
    "        \n",
    "        loss.backward()\n",
    "        opt.step()\n",
    "        opt.zero_grad()\n",
    "\n",
    "        total_loss.append(loss.cpu().detach().numpy())\n",
    "        # accuracy = \n",
    "    total_loss = np.mean(total_loss)\n",
    "    #Print your results every epoch\n",
    "    # with torch.no_grad():\n",
    "    #     correct_test, total_test = 0, 0\n",
    "    print(f\"Epoch {epoch}, loss = {total_loss}\")\n"
   ]
  },
  {
   "cell_type": "markdown",
   "metadata": {},
   "source": [
    "### Test model"
   ]
  },
  {
   "cell_type": "code",
   "execution_count": 7,
   "metadata": {},
   "outputs": [
    {
     "name": "stdout",
     "output_type": "stream",
     "text": [
      "Accuracy of the model on the test images: 99.479904 %\n"
     ]
    }
   ],
   "source": [
    "# Test the Model\n",
    "correct = 0.\n",
    "total = 0.\n",
    "for images, labels in test_loader:\n",
    "    images = Variable(images.view(-1, 28*28)).to(device)\n",
    "\n",
    "    ## Put your prediction code here\n",
    "    pred = model(images).squeeze()\n",
    "    prediction = torch.sigmoid(pred).round().cpu().detach()\n",
    "\n",
    "    correct += (prediction.view(-1).long() == labels).sum()\n",
    "    total += images.shape[0]\n",
    "print('Accuracy of the model on the test images: %f %%' % (100 * (correct.float() / total)))"
   ]
  },
  {
   "cell_type": "code",
   "execution_count": null,
   "metadata": {},
   "outputs": [],
   "source": []
  }
 ],
 "metadata": {
  "kernelspec": {
   "display_name": "Python 3.9.5 ('venv')",
   "language": "python",
   "name": "python3"
  },
  "language_info": {
   "codemirror_mode": {
    "name": "ipython",
    "version": 3
   },
   "file_extension": ".py",
   "mimetype": "text/x-python",
   "name": "python",
   "nbconvert_exporter": "python",
   "pygments_lexer": "ipython3",
   "version": "3.9.5"
  },
  "orig_nbformat": 4,
  "vscode": {
   "interpreter": {
    "hash": "640cace4827df8bb8e1edb3566e4e979a7918609c95fe3eaf671877de41a29fe"
   }
  }
 },
 "nbformat": 4,
 "nbformat_minor": 2
}
