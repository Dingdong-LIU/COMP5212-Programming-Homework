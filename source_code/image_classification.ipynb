{
 "cells": [
  {
   "cell_type": "markdown",
   "metadata": {},
   "source": [
    "# COMP 5212 Programming Assignment 1\n",
    "## Image classification with Logistic Regression and Support Vector Machine"
   ]
  },
  {
   "cell_type": "markdown",
   "metadata": {},
   "source": [
    "### Load data\n",
    "* Load minist data and store the data to $home$ directory\n",
    "* create dataloaders for training and testing"
   ]
  },
  {
   "cell_type": "code",
   "execution_count": null,
   "metadata": {},
   "outputs": [],
   "source": [
    "%load_ext autoreload\n",
    "%autoreload 2"
   ]
  },
  {
   "cell_type": "code",
   "execution_count": null,
   "metadata": {},
   "outputs": [],
   "source": [
    "#Don't change batch size\n",
    "batch_size = 64\n",
    "\n",
    "from torch.utils.data.sampler import SubsetRandomSampler\n",
    "import torch\n",
    "import torch.nn as nn\n",
    "from torch.autograd import Variable\n",
    "from torchvision import datasets, transforms"
   ]
  },
  {
   "cell_type": "code",
   "execution_count": null,
   "metadata": {},
   "outputs": [],
   "source": [
    "train_data = datasets.MNIST('~/data/mnist', train=True, download=True,\n",
    "                            transform=transforms.Compose([\n",
    "                                transforms.ToTensor(),\n",
    "                                transforms.Normalize((0.1307,), (0.3081,))\n",
    "                            ]))\n",
    "test_data = datasets.MNIST('~/data/mnist', train=False, download=True,\n",
    "                           transform=transforms.Compose([\n",
    "                               transforms.ToTensor(),\n",
    "                               transforms.Normalize((0.1307,), (0.3081,))\n",
    "                           ]))\n",
    "subset_indices = ((train_data.train_labels == 0) +\n",
    "                  (train_data.train_labels == 1)).nonzero().squeeze(1)\n",
    "train_loader = torch.utils.data.DataLoader(\n",
    "    train_data, batch_size=batch_size, shuffle=False, sampler=SubsetRandomSampler(subset_indices))\n",
    "\n",
    "\n",
    "subset_indices = ((test_data.test_labels == 0) +\n",
    "                  (test_data.test_labels == 1)).nonzero().squeeze(1)\n",
    "test_loader = torch.utils.data.DataLoader(\n",
    "    test_data, batch_size=batch_size, shuffle=False, sampler=SubsetRandomSampler(subset_indices))\n"
   ]
  },
  {
   "cell_type": "markdown",
   "metadata": {},
   "source": [
    "### Train model"
   ]
  },
  {
   "cell_type": "code",
   "execution_count": null,
   "metadata": {},
   "outputs": [],
   "source": [
    "from models import Logistic_Regression, logistic_loss, svm_loss\n",
    "from torch import optim\n",
    "import numpy as np"
   ]
  },
  {
   "cell_type": "code",
   "execution_count": null,
   "metadata": {},
   "outputs": [],
   "source": [
    "# Get a batch from training set and do some experiments\n",
    "for i, (images, labels) in enumerate(train_loader):\n",
    "    images = Variable(images.view(-1, 28*28))\n",
    "    #Convert labels from 0,1 to -1,1\n",
    "    labels = Variable(2*(labels.float()-0.5))\n",
    "    break\n",
    "images.shape, labels.shape\n"
   ]
  },
  {
   "cell_type": "code",
   "execution_count": null,
   "metadata": {},
   "outputs": [],
   "source": [
    "# Training the Model\n",
    "# Notice that newest Pytorch merge tensor and variable, so the additional Variable wrapping is no longer required.\n",
    "\n",
    "model = Logistic_Regression(28*28, 1)\n",
    "# print(model(images))\n",
    "loss_fn = svm_loss\n",
    "print(loss_fn(model(images), labels))"
   ]
  },
  {
   "cell_type": "code",
   "execution_count": null,
   "metadata": {},
   "outputs": [],
   "source": [
    "num_epochs = 20  # added by me. modifiable.\n",
    "opt = optim.SGD(model.parameters(), lr=5e-3)\n",
    "device = torch.device('cpu') if torch.cuda.is_available() else torch.device('cpu')\n",
    "model.to(device)\n",
    "\n",
    "for epoch in range(num_epochs):\n",
    "    total_loss = []\n",
    "    for i, (images, labels) in enumerate(train_loader):\n",
    "        images = Variable(images.view(-1, 28*28)).to(device)\n",
    "        #Convert labels from 0,1 to -1,1\n",
    "        labels = Variable(2*(labels.float()-0.5)).to(device)\n",
    "        \n",
    "        ## TODO \n",
    "        pred = model(images)\n",
    "        loss = loss_fn(pred, labels)\n",
    "        \n",
    "        loss.backward()\n",
    "        opt.step()\n",
    "        opt.zero_grad()\n",
    "\n",
    "        total_loss.append(loss.cpu().detach().numpy())\n",
    "        # accuracy = \n",
    "    total_loss = np.mean(total_loss)\n",
    "    #Print your results every epoch\n",
    "    # with torch.no_grad():\n",
    "    #     correct_test, total_test = 0, 0\n",
    "    print(f\"Epoch {epoch}, loss = {total_loss}\")\n"
   ]
  },
  {
   "cell_type": "markdown",
   "metadata": {},
   "source": [
    "### Test model"
   ]
  },
  {
   "cell_type": "code",
   "execution_count": null,
   "metadata": {},
   "outputs": [],
   "source": [
    "# Test the Model\n",
    "correct = 0.\n",
    "total = 0.\n",
    "for images, labels in test_loader:\n",
    "    images = Variable(images.view(-1, 28*28)).to(device)\n",
    "\n",
    "    ## Put your prediction code here\n",
    "    pred = model(images).squeeze()\n",
    "    prediction = torch.sigmoid(pred).round().cpu().detach()\n",
    "\n",
    "    correct += (prediction.view(-1).long() == labels).sum()\n",
    "    total += images.shape[0]\n",
    "print('Accuracy of the model on the test images: %f %%' % (100 * (correct.float() / total)))"
   ]
  }
 ],
 "metadata": {
  "kernelspec": {
   "display_name": "Python 3.9.5 ('venv')",
   "language": "python",
   "name": "python3"
  },
  "language_info": {
   "codemirror_mode": {
    "name": "ipython",
    "version": 3
   },
   "file_extension": ".py",
   "mimetype": "text/x-python",
   "name": "python",
   "nbconvert_exporter": "python",
   "pygments_lexer": "ipython3",
   "version": "3.9.5"
  },
  "orig_nbformat": 4,
  "vscode": {
   "interpreter": {
    "hash": "c67f1cde0deeda12749d5d54c5308956ecc4dcc312586a466f56ec78436de0e9"
   }
  }
 },
 "nbformat": 4,
 "nbformat_minor": 2
}
