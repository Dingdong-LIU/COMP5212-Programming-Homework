{
 "cells": [
  {
   "cell_type": "code",
   "execution_count": 1,
   "metadata": {},
   "outputs": [],
   "source": [
    "%load_ext autoreload\n",
    "%autoreload 2"
   ]
  },
  {
   "cell_type": "code",
   "execution_count": 2,
   "metadata": {},
   "outputs": [],
   "source": [
    "import torch\n",
    "import json"
   ]
  },
  {
   "cell_type": "code",
   "execution_count": 3,
   "metadata": {},
   "outputs": [],
   "source": [
    "from main import cifar_loaders, train_model, test_model\n",
    "from models import mlp_preprocessing, MLP_NO_ACT, MLP\n",
    "from models import cnn_preprocessing, CNN_NO_ACT, CNN"
   ]
  },
  {
   "cell_type": "markdown",
   "metadata": {},
   "source": [
    "## Load Dataset"
   ]
  },
  {
   "cell_type": "code",
   "execution_count": 4,
   "metadata": {},
   "outputs": [
    {
     "name": "stdout",
     "output_type": "stream",
     "text": [
      "Files already downloaded and verified\n",
      "Files already downloaded and verified\n"
     ]
    }
   ],
   "source": [
    "batch_size = 64\n",
    "test_batch_size = 64\n",
    "train_loader, _ = cifar_loaders(batch_size)\n",
    "_, test_loader = cifar_loaders(test_batch_size)"
   ]
  },
  {
   "cell_type": "markdown",
   "metadata": {},
   "source": [
    "## Train and test MLP model"
   ]
  },
  {
   "cell_type": "code",
   "execution_count": 5,
   "metadata": {},
   "outputs": [],
   "source": [
    "## Common training settings\n",
    "device = torch.device(\"cuda:0\") if torch.cuda.is_available() else torch.device(\"cpu\")\n",
    "num_epoch=20"
   ]
  },
  {
   "cell_type": "code",
   "execution_count": 6,
   "metadata": {},
   "outputs": [
    {
     "name": "stderr",
     "output_type": "stream",
     "text": [
      "Train epoch 0: 100%|██████████| 782/782 [00:16<00:00, 48.12it/s, Accuracy=0.288, Total_loss=1.91]\n",
      "Train epoch 1: 100%|██████████| 782/782 [00:15<00:00, 50.00it/s, Accuracy=0.376, Total_loss=1.72]\n",
      "Train epoch 2: 100%|██████████| 782/782 [00:15<00:00, 49.59it/s, Accuracy=0.414, Total_loss=1.62]\n",
      "Train epoch 3: 100%|██████████| 782/782 [00:16<00:00, 46.85it/s, Accuracy=0.438, Total_loss=1.56]\n",
      "Train epoch 4: 100%|██████████| 782/782 [00:16<00:00, 47.16it/s, Accuracy=0.453, Total_loss=1.52]\n",
      "Train epoch 5: 100%|██████████| 782/782 [00:16<00:00, 46.82it/s, Accuracy=0.465, Total_loss=1.49]\n",
      "Train epoch 6: 100%|██████████| 782/782 [00:16<00:00, 47.50it/s, Accuracy=0.475, Total_loss=1.46]\n",
      "Train epoch 7: 100%|██████████| 782/782 [00:16<00:00, 47.15it/s, Accuracy=0.483, Total_loss=1.44]\n",
      "Train epoch 8: 100%|██████████| 782/782 [00:16<00:00, 47.05it/s, Accuracy=0.491, Total_loss=1.42]\n",
      "Train epoch 9: 100%|██████████| 782/782 [00:17<00:00, 44.93it/s, Accuracy=0.497, Total_loss=1.4]  \n",
      "Train epoch 10: 100%|██████████| 782/782 [00:16<00:00, 46.75it/s, Accuracy=0.505, Total_loss=1.38] \n",
      "Train epoch 11: 100%|██████████| 782/782 [00:16<00:00, 47.08it/s, Accuracy=0.51, Total_loss=1.37]  \n",
      "Train epoch 12: 100%|██████████| 782/782 [00:16<00:00, 46.98it/s, Accuracy=0.518, Total_loss=1.35]\n",
      "Train epoch 13: 100%|██████████| 782/782 [00:16<00:00, 46.60it/s, Accuracy=0.518, Total_loss=1.34] \n",
      "Train epoch 14: 100%|██████████| 782/782 [00:17<00:00, 45.78it/s, Accuracy=0.523, Total_loss=1.32] \n",
      "Train epoch 15: 100%|██████████| 782/782 [00:16<00:00, 46.98it/s, Accuracy=0.531, Total_loss=1.31] \n",
      "Train epoch 16: 100%|██████████| 782/782 [00:16<00:00, 46.14it/s, Accuracy=0.535, Total_loss=1.3]  \n",
      "Train epoch 17: 100%|██████████| 782/782 [00:16<00:00, 46.76it/s, Accuracy=0.538, Total_loss=1.29] \n",
      "Train epoch 18: 100%|██████████| 782/782 [00:16<00:00, 46.63it/s, Accuracy=0.543, Total_loss=1.28] \n",
      "Train epoch 19: 100%|██████████| 782/782 [00:16<00:00, 46.01it/s, Accuracy=0.547, Total_loss=1.27] \n",
      "Testing: 100%|██████████| 157/157 [00:02<00:00, 76.47it/s, Accuracy=0.492]\n"
     ]
    }
   ],
   "source": [
    "# train and test MLP\n",
    "mlp_model = MLP(3*32*32, 10)\n",
    "\n",
    "mlp_train_history, mlp_train_accuracy = train_model(\n",
    "    mlp_model, device=device, train_loader=train_loader, num_epoch=num_epoch, \n",
    "    opt=torch.optim.Adam(mlp_model.parameters(), lr=1e-3),\n",
    "    loss_fn=torch.nn.CrossEntropyLoss(),\n",
    "    preprocessing_fn=mlp_preprocessing\n",
    ")\n",
    "\n",
    "_, mlp_test_accuracy = test_model(\n",
    "    mlp_model, device=device, test_loader=test_loader,\n",
    "    preprocessing_fn=mlp_preprocessing\n",
    ")\n",
    "\n"
   ]
  },
  {
   "cell_type": "code",
   "execution_count": 7,
   "metadata": {},
   "outputs": [],
   "source": [
    "with open('../experiment_result/mlp_model.json', 'w') as f:\n",
    "    json.dump({\n",
    "        \"train_acc\": float(mlp_train_accuracy),\n",
    "        \"num_epoch\": num_epoch,\n",
    "        \"test_acc\": float(mlp_test_accuracy),\n",
    "        \"train_loss\": [float(x) for x in mlp_train_history],\n",
    "    }, f, indent=4)\n"
   ]
  },
  {
   "cell_type": "markdown",
   "metadata": {},
   "source": [
    "## Train MLP model with out Activation layer"
   ]
  },
  {
   "cell_type": "code",
   "execution_count": 8,
   "metadata": {},
   "outputs": [
    {
     "name": "stderr",
     "output_type": "stream",
     "text": [
      "Train epoch 0: 100%|██████████| 782/782 [00:15<00:00, 49.13it/s, Accuracy=0.259, Total_loss=2.02]\n",
      "Train epoch 1: 100%|██████████| 782/782 [00:15<00:00, 49.39it/s, Accuracy=0.291, Total_loss=1.96]\n",
      "Train epoch 2: 100%|██████████| 782/782 [00:15<00:00, 50.27it/s, Accuracy=0.302, Total_loss=1.94]\n",
      "Train epoch 3: 100%|██████████| 782/782 [00:15<00:00, 50.36it/s, Accuracy=0.307, Total_loss=1.93]\n",
      "Train epoch 4: 100%|██████████| 782/782 [00:15<00:00, 49.45it/s, Accuracy=0.312, Total_loss=1.93]\n",
      "Train epoch 5: 100%|██████████| 782/782 [00:15<00:00, 50.14it/s, Accuracy=0.316, Total_loss=1.92]\n",
      "Train epoch 6: 100%|██████████| 782/782 [00:15<00:00, 49.28it/s, Accuracy=0.317, Total_loss=1.91]\n",
      "Train epoch 7: 100%|██████████| 782/782 [00:15<00:00, 49.81it/s, Accuracy=0.324, Total_loss=1.91]\n",
      "Train epoch 8: 100%|██████████| 782/782 [00:15<00:00, 50.32it/s, Accuracy=0.317, Total_loss=1.91]\n",
      "Train epoch 9: 100%|██████████| 782/782 [00:16<00:00, 48.65it/s, Accuracy=0.32, Total_loss=1.9]  \n",
      "Train epoch 10: 100%|██████████| 782/782 [00:15<00:00, 52.13it/s, Accuracy=0.322, Total_loss=1.91]\n",
      "Train epoch 11: 100%|██████████| 782/782 [00:14<00:00, 53.81it/s, Accuracy=0.325, Total_loss=1.9] \n",
      "Train epoch 12: 100%|██████████| 782/782 [00:14<00:00, 53.44it/s, Accuracy=0.325, Total_loss=1.9] \n",
      "Train epoch 13: 100%|██████████| 782/782 [00:14<00:00, 53.40it/s, Accuracy=0.326, Total_loss=1.9] \n",
      "Train epoch 14: 100%|██████████| 782/782 [00:14<00:00, 53.70it/s, Accuracy=0.326, Total_loss=1.9] \n",
      "Train epoch 15: 100%|██████████| 782/782 [00:14<00:00, 54.32it/s, Accuracy=0.324, Total_loss=1.9] \n",
      "Train epoch 16: 100%|██████████| 782/782 [00:14<00:00, 54.53it/s, Accuracy=0.327, Total_loss=1.89] \n",
      "Train epoch 17: 100%|██████████| 782/782 [00:14<00:00, 53.35it/s, Accuracy=0.327, Total_loss=1.9] \n",
      "Train epoch 18: 100%|██████████| 782/782 [00:14<00:00, 54.14it/s, Accuracy=0.329, Total_loss=1.89]\n",
      "Train epoch 19: 100%|██████████| 782/782 [00:14<00:00, 53.55it/s, Accuracy=0.324, Total_loss=1.9] \n",
      "Testing: 100%|██████████| 157/157 [00:01<00:00, 88.46it/s, Accuracy=0.359]\n"
     ]
    }
   ],
   "source": [
    "mlp_no_act_model = MLP_NO_ACT(3*32*32, 10)\n",
    "\n",
    "mlp_no_act_train_history, mlp_no_act_train_accuracy = train_model(\n",
    "    mlp_no_act_model, device=device, train_loader=train_loader, num_epoch=num_epoch,\n",
    "    opt=torch.optim.Adam(mlp_no_act_model.parameters(), lr=1e-3),\n",
    "    loss_fn=torch.nn.CrossEntropyLoss(),\n",
    "    preprocessing_fn=mlp_preprocessing\n",
    ")\n",
    "\n",
    "_, mlp_no_act_test_accuracy = test_model(\n",
    "    mlp_no_act_model, device=device, test_loader=test_loader, preprocessing_fn=mlp_preprocessing \n",
    ")\n",
    "\n",
    "with open('../experiment_result/mlp_no_act_model.json', 'w') as f:\n",
    "    json.dump({\n",
    "        \"train_acc\": float(mlp_no_act_train_accuracy),\n",
    "        \"num_epoch\": num_epoch,\n",
    "        \"test_acc\": float(mlp_no_act_test_accuracy),\n",
    "        \"train_loss\": [float(x) for x in mlp_no_act_train_history],\n",
    "    }, f, indent=4)"
   ]
  },
  {
   "cell_type": "markdown",
   "metadata": {},
   "source": [
    "## Train CNN model"
   ]
  },
  {
   "cell_type": "code",
   "execution_count": 13,
   "metadata": {},
   "outputs": [
    {
     "name": "stderr",
     "output_type": "stream",
     "text": [
      "Train epoch 0: 100%|██████████| 782/782 [00:27<00:00, 28.50it/s, Accuracy=0.394, Total_loss=1.62]\n",
      "Train epoch 1: 100%|██████████| 782/782 [00:29<00:00, 26.49it/s, Accuracy=0.56, Total_loss=1.21]  \n",
      "Train epoch 2: 100%|██████████| 782/782 [00:27<00:00, 27.97it/s, Accuracy=0.636, Total_loss=1.02] \n",
      "Train epoch 3: 100%|██████████| 782/782 [00:27<00:00, 28.19it/s, Accuracy=0.686, Total_loss=0.886]\n",
      "Train epoch 4: 100%|██████████| 782/782 [00:28<00:00, 27.19it/s, Accuracy=0.713, Total_loss=0.813]\n",
      "Train epoch 5:  69%|██████▊   | 537/782 [00:20<00:10, 23.39it/s, accuracy=0.797, batch_loss=0.635]"
     ]
    }
   ],
   "source": [
    "cnn_model = CNN(3*32*32, 10)\n",
    "num_epoch_cnn = 30\n",
    "\n",
    "cnn_train_history, cnn_train_accuracy = train_model(\n",
    "    cnn_model, device=device, train_loader=train_loader, num_epoch=num_epoch_cnn,\n",
    "    opt=torch.optim.Adam(cnn_model.parameters(), lr=1e-3),\n",
    "    loss_fn=torch.nn.CrossEntropyLoss(),\n",
    "    preprocessing_fn=cnn_preprocessing,\n",
    ")\n",
    "\n",
    "_, cnn_test_accuracy = test_model(\n",
    "    cnn_model, device=device, test_loader=test_loader, \n",
    "    preprocessing_fn=cnn_preprocessing\n",
    ")\n",
    "\n",
    "with open('../experiment_result/cnn_model.json', 'w') as f:\n",
    "    json.dump({\n",
    "        \"train_acc\": float(cnn_train_accuracy),\n",
    "        \"num_epoch\": num_epoch_cnn,\n",
    "        \"test_acc\": float(cnn_test_accuracy),\n",
    "        \"train_loss\": [float(x) for x in cnn_train_history],\n",
    "    }, f, indent=4)"
   ]
  },
  {
   "cell_type": "markdown",
   "metadata": {},
   "source": [
    "## Train CNN without activation layer"
   ]
  },
  {
   "cell_type": "code",
   "execution_count": 10,
   "metadata": {},
   "outputs": [
    {
     "name": "stderr",
     "output_type": "stream",
     "text": [
      "Train epoch 0: 100%|██████████| 782/782 [00:25<00:00, 30.63it/s, Accuracy=0.263, Total_loss=2.04]\n",
      "Train epoch 1: 100%|██████████| 782/782 [00:25<00:00, 30.66it/s, Accuracy=0.287, Total_loss=1.99]\n",
      "Train epoch 2: 100%|██████████| 782/782 [00:25<00:00, 30.59it/s, Accuracy=0.293, Total_loss=1.98] \n",
      "Train epoch 3: 100%|██████████| 782/782 [00:25<00:00, 30.53it/s, Accuracy=0.294, Total_loss=1.97]\n",
      "Train epoch 4: 100%|██████████| 782/782 [00:27<00:00, 28.82it/s, Accuracy=0.295, Total_loss=1.97] \n",
      "Train epoch 5: 100%|██████████| 782/782 [00:29<00:00, 26.95it/s, Accuracy=0.303, Total_loss=1.96]\n",
      "Train epoch 6: 100%|██████████| 782/782 [00:28<00:00, 27.15it/s, Accuracy=0.301, Total_loss=1.96]\n",
      "Train epoch 7: 100%|██████████| 782/782 [00:29<00:00, 26.18it/s, Accuracy=0.304, Total_loss=1.96]\n",
      "Train epoch 8: 100%|██████████| 782/782 [00:29<00:00, 26.56it/s, Accuracy=0.308, Total_loss=1.95]\n",
      "Train epoch 9: 100%|██████████| 782/782 [00:30<00:00, 25.95it/s, Accuracy=0.309, Total_loss=1.95]\n",
      "Train epoch 10: 100%|██████████| 782/782 [00:29<00:00, 26.67it/s, Accuracy=0.308, Total_loss=1.95]\n",
      "Train epoch 11: 100%|██████████| 782/782 [00:29<00:00, 26.21it/s, Accuracy=0.309, Total_loss=1.95]\n",
      "Train epoch 12: 100%|██████████| 782/782 [00:29<00:00, 26.75it/s, Accuracy=0.31, Total_loss=1.95] \n",
      "Train epoch 13: 100%|██████████| 782/782 [00:29<00:00, 26.62it/s, Accuracy=0.308, Total_loss=1.95]\n",
      "Train epoch 14: 100%|██████████| 782/782 [00:30<00:00, 26.06it/s, Accuracy=0.314, Total_loss=1.94]\n",
      "Train epoch 15: 100%|██████████| 782/782 [00:30<00:00, 25.95it/s, Accuracy=0.314, Total_loss=1.94]\n",
      "Train epoch 16: 100%|██████████| 782/782 [00:29<00:00, 26.43it/s, Accuracy=0.31, Total_loss=1.94] \n",
      "Train epoch 17: 100%|██████████| 782/782 [00:29<00:00, 26.49it/s, Accuracy=0.309, Total_loss=1.95]\n",
      "Train epoch 18: 100%|██████████| 782/782 [00:28<00:00, 27.33it/s, Accuracy=0.311, Total_loss=1.95]\n",
      "Train epoch 19: 100%|██████████| 782/782 [00:26<00:00, 29.66it/s, Accuracy=0.31, Total_loss=1.94] \n",
      "Testing: 100%|██████████| 157/157 [00:02<00:00, 73.20it/s, Accuracy=0.329]\n"
     ]
    }
   ],
   "source": [
    "cnn_no_act_model = CNN_NO_ACT(3*32*32, 10)\n",
    "\n",
    "cnn_no_act_train_history, cnn_no_act_train_accuracy = train_model(\n",
    "    cnn_no_act_model, device=device, train_loader=train_loader, num_epoch=num_epoch_cnn,\n",
    "    opt=torch.optim.Adam(cnn_no_act_model.parameters(), lr=1e-3),\n",
    "    loss_fn=torch.nn.CrossEntropyLoss(),\n",
    "    preprocessing_fn=cnn_preprocessing,\n",
    ")\n",
    "\n",
    "_, cnn_no_act_test_accuracy = test_model(\n",
    "    cnn_no_act_model, device=device, test_loader=test_loader,\n",
    "    preprocessing_fn=cnn_preprocessing\n",
    ")\n",
    "\n",
    "with open('../experiment_result/cnn_no_act_model.json', 'w') as f:\n",
    "    json.dump({\n",
    "        \"train_acc\": float(cnn_no_act_train_accuracy),\n",
    "        \"num_epoch\": num_epoch_cnn,\n",
    "        \"test_acc\": float(cnn_no_act_test_accuracy),\n",
    "        \"train_loss\": [float(x) for x in cnn_no_act_train_history],\n",
    "    }, f, indent=4)\n"
   ]
  }
 ],
 "metadata": {
  "kernelspec": {
   "display_name": "Python 3.10.0 ('venv')",
   "language": "python",
   "name": "python3"
  },
  "language_info": {
   "codemirror_mode": {
    "name": "ipython",
    "version": 3
   },
   "file_extension": ".py",
   "mimetype": "text/x-python",
   "name": "python",
   "nbconvert_exporter": "python",
   "pygments_lexer": "ipython3",
   "version": "3.10.0"
  },
  "orig_nbformat": 4,
  "vscode": {
   "interpreter": {
    "hash": "6d8da1c338f017caf088afacccae0a6fafbd40295a42062d30fca54dd53575db"
   }
  }
 },
 "nbformat": 4,
 "nbformat_minor": 2
}
