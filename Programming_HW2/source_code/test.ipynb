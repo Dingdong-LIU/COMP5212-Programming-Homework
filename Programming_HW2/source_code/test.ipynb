{
 "cells": [
  {
   "cell_type": "code",
   "execution_count": null,
   "metadata": {},
   "outputs": [],
   "source": [
    "%load_ext autoreload\n",
    "%autoreload 2"
   ]
  },
  {
   "cell_type": "code",
   "execution_count": 1,
   "metadata": {},
   "outputs": [],
   "source": [
    "import torch\n",
    "from torch.autograd import Variable\n",
    "import torch.nn as nn\n",
    "import torch.optim as optim\n",
    "import torchvision.transforms as transforms\n",
    "import torchvision.datasets as datasets\n",
    "import torch.nn.functional as F\n",
    "import numpy as np\n",
    "import torch.utils.data as td\n",
    "import random\n",
    "import time\n",
    "import matplotlib.pyplot as plt"
   ]
  },
  {
   "cell_type": "code",
   "execution_count": 2,
   "metadata": {},
   "outputs": [],
   "source": [
    "def cifar_loaders(batch_size, shuffle_test=False):\n",
    "    normalize = transforms.Normalize(mean=[0.485, 0.456, 0.406],\n",
    "                                     std=[0.225, 0.225, 0.225])\n",
    "    train = datasets.CIFAR10('~/data/cifar10', train=True, download=True,\n",
    "                             transform=transforms.Compose([\n",
    "                                 transforms.RandomHorizontalFlip(),\n",
    "                                 transforms.RandomCrop(32, 4),\n",
    "                                 transforms.ToTensor(),\n",
    "                                 normalize,\n",
    "                             ]))\n",
    "    test = datasets.CIFAR10('~/data/cifar10', train=False,\n",
    "                            transform=transforms.Compose([transforms.ToTensor(), normalize]))\n",
    "    train_loader = torch.utils.data.DataLoader(train, batch_size=batch_size,\n",
    "                                               shuffle=True, pin_memory=True)\n",
    "    test_loader = torch.utils.data.DataLoader(test, batch_size=batch_size,\n",
    "                                              shuffle=shuffle_test, pin_memory=True)\n",
    "    return train_loader, test_loader\n"
   ]
  },
  {
   "cell_type": "code",
   "execution_count": 3,
   "metadata": {},
   "outputs": [
    {
     "name": "stdout",
     "output_type": "stream",
     "text": [
      "Files already downloaded and verified\n",
      "Files already downloaded and verified\n"
     ]
    }
   ],
   "source": [
    "batch_size = 64\n",
    "test_batch_size = 64\n",
    "\n",
    "train_loader, _ = cifar_loaders(batch_size)\n",
    "_, test_loader = cifar_loaders(test_batch_size)\n"
   ]
  },
  {
   "cell_type": "code",
   "execution_count": 4,
   "metadata": {},
   "outputs": [],
   "source": [
    "# for i, (image, labels) in enumerate(train_loader):\n",
    "#     break\n",
    "# type(image), image.shape, labels\n"
   ]
  },
  {
   "cell_type": "code",
   "execution_count": 6,
   "metadata": {},
   "outputs": [
    {
     "name": "stderr",
     "output_type": "stream",
     "text": [
      "Clipping input data to the valid range for imshow with RGB data ([0..1] for floats or [0..255] for integers).\n"
     ]
    },
    {
     "data": {
      "text/plain": [
       "<matplotlib.image.AxesImage at 0x7f73c8568e20>"
      ]
     },
     "execution_count": 6,
     "metadata": {},
     "output_type": "execute_result"
    },
    {
     "data": {
      "image/png": "[encoded data removed]",
      "text/plain": [
       "<Figure size 432x288 with 1 Axes>"
      ]
     },
     "metadata": {
      "needs_background": "light"
     },
     "output_type": "display_data"
    }
   ],
   "source": [
    "# sample_image = image[0]\n",
    "# plt.imshow(sample_image.view(sample_image.shape[2], sample_image.shape[1], sample_image.shape[0]))"
   ]
  },
  {
   "cell_type": "code",
   "execution_count": 7,
   "metadata": {},
   "outputs": [],
   "source": [
    "from models import MLP, mlp_preprocessing, CNN, cnn_preprocessing\n",
    "from tqdm import trange\n",
    "from tqdm.auto import tqdm"
   ]
  },
  {
   "cell_type": "code",
   "execution_count": 8,
   "metadata": {},
   "outputs": [],
   "source": [
    "# mlp = MLP(3*32*32, 10)\n",
    "# cnn = CNN(3*32*32, 10)"
   ]
  },
  {
   "cell_type": "code",
   "execution_count": null,
   "metadata": {},
   "outputs": [],
   "source": [
    "# t_image = Variable(image.view(-1, 3*32*32))\n",
    "# t_image.shape"
   ]
  },
  {
   "cell_type": "code",
   "execution_count": null,
   "metadata": {},
   "outputs": [],
   "source": [
    "# image.reshape(-1, 1024).shape"
   ]
  },
  {
   "cell_type": "code",
   "execution_count": null,
   "metadata": {},
   "outputs": [],
   "source": [
    "# cnn(image).shape"
   ]
  },
  {
   "cell_type": "code",
   "execution_count": null,
   "metadata": {},
   "outputs": [],
   "source": []
  },
  {
   "cell_type": "code",
   "execution_count": 14,
   "metadata": {},
   "outputs": [
    {
     "data": {
      "application/vnd.jupyter.widget-view+json": {
       "model_id": "09c90d2708e846c4b6a777775a50f67c",
       "version_major": 2,
       "version_minor": 0
      },
      "text/plain": [
       "  0%|          | 0/782 [00:00<?, ?it/s]"
      ]
     },
     "metadata": {},
     "output_type": "display_data"
    },
    {
     "data": {
      "application/vnd.jupyter.widget-view+json": {
       "model_id": "481bfa25db2e45ff848843b20778ba5b",
       "version_major": 2,
       "version_minor": 0
      },
      "text/plain": [
       "  0%|          | 0/782 [00:00<?, ?it/s]"
      ]
     },
     "metadata": {},
     "output_type": "display_data"
    },
    {
     "data": {
      "application/vnd.jupyter.widget-view+json": {
       "model_id": "4e5c2a1a40db40d1b02c6dfa96a15fc4",
       "version_major": 2,
       "version_minor": 0
      },
      "text/plain": [
       "  0%|          | 0/782 [00:00<?, ?it/s]"
      ]
     },
     "metadata": {},
     "output_type": "display_data"
    }
   ],
   "source": [
    "model = CNN(3*32*32, 10)\n",
    "preprocessing_fn = cnn_preprocessing\n",
    "\n",
    "device = torch.device(\n",
    "    'cuda:0') if torch.cuda.is_available() else torch.device('cpu')\n",
    "loss_fn = torch.nn.CrossEntropyLoss()\n",
    "opt = optim.Adam(model.parameters(), lr=1e-3)\n",
    "# with trange(3, desc=\"Training\", unit=\"epoch\") as bar:\n",
    "model.to(device)\n",
    "for epoch in range(3):\n",
    "    loss_history = []\n",
    "    correct = 0\n",
    "    with tqdm(train_loader) as bar:\n",
    "        bar.set_description(f'Train batch {epoch}')\n",
    "        for i, (images, labels) in enumerate(bar):\n",
    "            num_pictures = images.shape[0]\n",
    "            # images = Variable(images.view(-1, 3*32*32)).to(device)\n",
    "            # labels = labels.to(device)\n",
    "            images, labels = preprocessing_fn(images, labels)\n",
    "            images, labels = images.to(device), labels.to(device)\n",
    "            ## Prediction\n",
    "            output = model(images)\n",
    "            loss = loss_fn(output, labels)\n",
    "            \n",
    "            predictions = output.argmax(dim=1).squeeze()\n",
    "            correct_in_batch = (predictions == labels).sum().item()\n",
    "            accuracy = correct_in_batch / num_pictures\n",
    "            correct += correct_in_batch\n",
    "\n",
    "            loss.backward()\n",
    "            opt.step()\n",
    "            opt.zero_grad()\n",
    "\n",
    "            loss_history.append(loss.cpu().detach().numpy())\n",
    "            # current_total_loss = np.mean(loss_history)\n",
    "            bar.set_postfix(batch_loss=loss.item(), accuracy=accuracy)\n",
    "            if i == len(train_loader) - 1:\n",
    "                bar.set_postfix(\n",
    "                    Accuracy=correct/len(train_loader.dataset), Total_loss=np.mean(loss_history))\n",
    "        \n",
    "        # print(f\"Epoch {epoch}, Accuracy {correct / len(train_loader.dataset)}, Total loss {np.mean(loss_history)}\")\n",
    "        # bar.set_description(f'Train epoch {epoch}')\n",
    "        # bar.set_postfix(total_loss=np.mean(loss_history), accuracy=accuracy)\n",
    "    \n",
    "        \n"
   ]
  },
  {
   "cell_type": "code",
   "execution_count": null,
   "metadata": {},
   "outputs": [],
   "source": []
  }
 ],
 "metadata": {
  "kernelspec": {
   "display_name": "Python 3.9.5 ('venv')",
   "language": "python",
   "name": "python3"
  },
  "language_info": {
   "codemirror_mode": {
    "name": "ipython",
    "version": 3
   },
   "file_extension": ".py",
   "mimetype": "text/x-python",
   "name": "python",
   "nbconvert_exporter": "python",
   "pygments_lexer": "ipython3",
   "version": "3.9.5"
  },
  "orig_nbformat": 4,
  "vscode": {
   "interpreter": {
    "hash": "640cace4827df8bb8e1edb3566e4e979a7918609c95fe3eaf671877de41a29fe"
   }
  }
 },
 "nbformat": 4,
 "nbformat_minor": 2
}
